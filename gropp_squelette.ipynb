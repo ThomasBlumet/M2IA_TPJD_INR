{
 "cells": [
  {
   "cell_type": "code",
   "execution_count": null,
   "metadata": {},
   "outputs": [],
   "source": [
    "import numpy as np\n",
    "import torch\n",
    "import mcubes\n",
    "from torch import nn\n",
    "from scipy import spatial\n",
    "from matplotlib import pyplot as plt\n",
    "import torch.nn.functional as F"
   ]
  },
  {
   "cell_type": "code",
   "execution_count": null,
   "metadata": {},
   "outputs": [],
   "source": [
    "class GeomNet(nn.Module):\n",
    "    def __init__(self, nlayers, nneurons):\n",
    "        super(GeomNet, self).__init__()\n",
    "        ##TODO\n",
    "\n",
    "    def forward(self,x):\n",
    "        ##TODO\n",
    "        return x"
   ]
  },
  {
   "cell_type": "code",
   "execution_count": null,
   "metadata": {},
   "outputs": [],
   "source": [
    "#This function computes the gradient of the output with respect to the input (useful for eikonal loss)\n",
    "def gradient(y, x, grad_outputs=None):\n",
    "    if grad_outputs is None:\n",
    "        grad_outputs = torch.ones_like(y)\n",
    "    grad = torch.autograd.grad(y, [x], grad_outputs=grad_outputs, create_graph=True)[0]\n",
    "    return grad"
   ]
  },
  {
   "cell_type": "code",
   "execution_count": null,
   "metadata": {},
   "outputs": [],
   "source": [
    "#normal alignment loss\n",
    "def sdf_loss_align(grad, normals):\n",
    "    return (1-nn.functional.cosine_similarity(grad, normals, dim = 1)).mean()\n"
   ]
  },
  {
   "cell_type": "code",
   "execution_count": null,
   "metadata": {},
   "outputs": [],
   "source": [
    "\n",
    "def evaluate_loss(geomnet, p, device, lpc, leik, lambda_pc, lambda_eik, batch_size=2000, pc_batch_size=2000):\n",
    "    pts_random = torch.rand((batch_size, 3), device = device)*2-1\n",
    "    pts_random.requires_grad = True\n",
    "  \n",
    "    sample = torch.randint(p.shape[0], (pc_batch_size,))\n",
    "\n",
    "    sample_pc = p[sample,0:3]\n",
    "    sample_nc = p[sample,3:]\n",
    "\n",
    "    #TODO: get the sdf\n",
    "    sdf_pc =\n",
    "    sdf_random =\n",
    "\n",
    "    #TODO: get the gradient\n",
    "    grad_pc = \n",
    "    grad_random = \n",
    "  \n",
    "    # TODO compute and store the losses\n",
    "    loss_pc = \n",
    "    loss_eik = \n",
    "    \n",
    "    # append all the losses\n",
    "    lpc.append(float(loss_pc))\n",
    "    leik.append(float(loss_eik))\n",
    "  \n",
    "    # sum the losses\n",
    "    loss = lambda_pc*loss_pc + lambda_eik*loss_eik\n",
    "\n",
    "    return loss"
   ]
  },
  {
   "cell_type": "code",
   "execution_count": null,
   "metadata": {},
   "outputs": [],
   "source": [
    "\n",
    "def main() :\n",
    "    p = np.loadtxt('armadillo_sub.xyz')\n",
    "    \n",
    "    #TODO compute the bounding box\n",
    "    \n",
    "    #TODO normalize the shape (centered at 0, in a cube of size 2)\n",
    "    p[:,0:3] = \n",
    "    \n",
    "    geomnet = #TODO: create the network\n",
    "    device = torch.device('cuda' if torch.cuda.is_available() else 'cpu')\n",
    "\n",
    "    geomnet.to(device)\n",
    "    points = torch.from_numpy(p).float().to(device)\n",
    "    points.requires_grad = True\n",
    "\n",
    "    lpc, leik = [], []\n",
    "    lambda_pc = 1\n",
    "    lambda_eik = 1\n",
    "\n",
    "    optim = torch.optim.Adam(params = geomnet.parameters(), lr=1e-3)\n",
    "\n",
    "    nepochs=5000\n",
    "    \n",
    "    for epoch in range(nepochs):\n",
    "        #TODO one learning step\n",
    "\n",
    "    #TODO use marching cubes to extract the 0 level set    \n",
    "\n",
    "    # display the loss\n",
    "    plt.figure(figsize=(6,4))\n",
    "    plt.yscale('log')\n",
    "    plt.plot(lpc, label = 'Point cloud loss ({:.2f})'.format(lpc[-1]))\n",
    "    plt.plot(leik, label = 'Eikonal loss ({:.2f})'.format(leik[-1]))\n",
    "    plt.xlabel(\"Epochs\")\n",
    "    plt.legend()\n",
    "    plt.savefig(\"loss.pdf\")\n",
    "    plt.close()\n",
    "\n",
    "main()"
   ]
  }
 ],
 "metadata": {
  "kernelspec": {
   "display_name": "Python 3",
   "language": "python",
   "name": "python3"
  },
  "language_info": {
   "name": "python",
   "version": "3.12.8"
  }
 },
 "nbformat": 4,
 "nbformat_minor": 2
}
